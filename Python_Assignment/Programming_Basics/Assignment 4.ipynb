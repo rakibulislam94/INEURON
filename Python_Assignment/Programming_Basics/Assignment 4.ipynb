{
 "cells": [
  {
   "cell_type": "markdown",
   "metadata": {},
   "source": [
    "## 1.\tWrite a Python Program to Find the Factorial of a Number?"
   ]
  },
  {
   "cell_type": "code",
   "execution_count": 5,
   "metadata": {},
   "outputs": [
    {
     "name": "stdout",
     "output_type": "stream",
     "text": [
      "Please Enter a positive number number4\n",
      "Factorial of 4 is = 24\n"
     ]
    }
   ],
   "source": [
    "num=int(input(\"Please Enter a positive number number\"))\n",
    "Factorial =1\n",
    "if(num<0):\n",
    "    print(\"Negative number doesnot have Factorial, please enter a positive number \")\n",
    "elif(num==0):\n",
    "    print(\"Factorial of 0 is = {}\".format(Factorial))\n",
    "else:\n",
    "    for i in range(1,num+1):\n",
    "        Factorial=Factorial*i\n",
    "    print(\"Factorial of {} is = {}\".format(num, Factorial))"
   ]
  },
  {
   "cell_type": "markdown",
   "metadata": {},
   "source": [
    "## 2.\tWrite a Python Program to Display the multiplication Table?"
   ]
  },
  {
   "cell_type": "code",
   "execution_count": 15,
   "metadata": {},
   "outputs": [
    {
     "name": "stdout",
     "output_type": "stream",
     "text": [
      "Please Enter a number: 4\n",
      "4 x 1 = 4\n",
      "4 x 2 = 8\n",
      "4 x 3 = 12\n",
      "4 x 4 = 16\n",
      "4 x 5 = 20\n",
      "4 x 6 = 24\n",
      "4 x 7 = 28\n",
      "4 x 8 = 32\n",
      "4 x 9 = 36\n",
      "4 x 10 = 40\n"
     ]
    }
   ],
   "source": [
    "num=int(input(\"Please Enter a number: \"))\n",
    "for i in range(1, 11):\n",
    "    #print(num, 'x', i, '=', num*i)\n",
    "    print(\"{} x {} = {}\".format(num, i, num*i))\n"
   ]
  },
  {
   "cell_type": "markdown",
   "metadata": {},
   "source": [
    "### 3.\tWrite a Python Program to Print the Fibonacci sequence?"
   ]
  },
  {
   "cell_type": "code",
   "execution_count": 20,
   "metadata": {},
   "outputs": [
    {
     "name": "stdout",
     "output_type": "stream",
     "text": [
      "Please Enter the number of element to be print in Fibocacci Series: 20\n",
      "[0, 1, 1, 3, 5, 7, 9, 11, 13, 15, 17, 19, 21, 23, 25, 27, 29, 31, 33, 35]\n"
     ]
    }
   ],
   "source": [
    "num = int(input(\"Please Enter the number of element to be print in Fibocacci Series: \"))\n",
    "fibonacci = [0,1]\n",
    "if num>2:\n",
    "    for i in range(2, num):\n",
    "        next_term = (i-2) + (i-1)\n",
    "        fibonacci.append(next_term)\n",
    "    print(fibonacci)\n",
    "else:\n",
    "    print(\"invalid Input, Please enter a number greater than 2\")\n",
    "        \n",
    "        "
   ]
  },
  {
   "cell_type": "code",
   "execution_count": 30,
   "metadata": {},
   "outputs": [
    {
     "name": "stdout",
     "output_type": "stream",
     "text": [
      "Please Enter the number of element to be print in Fibocacci Series: 9\n",
      "[0, 1, 1, 3, 5, 7, 9, 11, 13]\n"
     ]
    }
   ],
   "source": [
    "num = int(input(\"Please Enter the number of element to be print in Fibocacci Series: \"))\n",
    "fibonacci = [0,1]\n",
    "if num>2:\n",
    "    new_lst=[((i-2) + (i-1)) for i in range(2, num)]\n",
    "    print(fibonacci + new_lst)"
   ]
  },
  {
   "cell_type": "markdown",
   "metadata": {},
   "source": [
    "### 4.\tWrite a Python Program to Check Armstrong Number?"
   ]
  },
  {
   "cell_type": "code",
   "execution_count": 47,
   "metadata": {},
   "outputs": [
    {
     "name": "stdout",
     "output_type": "stream",
     "text": [
      "1\n",
      "126\n",
      "153\n",
      "153\n"
     ]
    }
   ],
   "source": [
    "num=153\n",
    "lst=[int(i) for i in str(num)]\n",
    "sum=0\n",
    "for i in range(0,len(lst)):\n",
    "    sum += lst[i]**len(lst)\n",
    "print(sum)\n",
    "\n"
   ]
  },
  {
   "cell_type": "code",
   "execution_count": 56,
   "metadata": {},
   "outputs": [
    {
     "name": "stdout",
     "output_type": "stream",
     "text": [
      "Enter a number to chect Armstrong: 1634\n",
      "The Entered Number 1634 is an Armstrong Number\n",
      "1634\n"
     ]
    }
   ],
   "source": [
    "num = input(\"Enter a number to chect Armstrong: \")\n",
    "lst=[int(i) for i in num]\n",
    "sum=0\n",
    "for i in range(0,len(lst)):\n",
    "    sum += lst[i]**len(lst)\n",
    "if(sum== int(num)):\n",
    "    print(\"The Entered Number {} is an Armstrong Number\".format(num))\n",
    "else:\n",
    "    print(\" This number {} is not an Armstron number\".format(num))\n",
    "    \n",
    "print(sum)"
   ]
  },
  {
   "cell_type": "markdown",
   "metadata": {},
   "source": [
    "### 5.\tWrite a Python Program to Find Armstrong Number in an Interval?"
   ]
  },
  {
   "cell_type": "code",
   "execution_count": 89,
   "metadata": {},
   "outputs": [
    {
     "name": "stdout",
     "output_type": "stream",
     "text": [
      "Enter the interval number:  10 99999\n",
      "153\n",
      "370\n",
      "371\n",
      "407\n",
      "1634\n",
      "8208\n",
      "9474\n",
      "54748\n",
      "92727\n",
      "93084\n"
     ]
    }
   ],
   "source": [
    "def check_armstrong(num):\n",
    "    lst=[int(i) for i in str(num)]\n",
    "    sum=0\n",
    "    for i in range(0,len(lst)):\n",
    "        sum += lst[i]**len(lst)\n",
    "    return True if (sum== int(num)) else False\n",
    "\n",
    "l, h = input(\"Enter the interval number:  \").split()\n",
    "\n",
    "for k in range(int(l), int(h)):\n",
    "    #res = check_armstrong(k)\n",
    "    if(check_armstrong(k)):\n",
    "        print(k)\n"
   ]
  },
  {
   "cell_type": "code",
   "execution_count": null,
   "metadata": {},
   "outputs": [],
   "source": []
  },
  {
   "cell_type": "markdown",
   "metadata": {},
   "source": [
    "### 6.\tWrite a Python Program to Find the Sum of Natural Numbers?"
   ]
  },
  {
   "cell_type": "code",
   "execution_count": 106,
   "metadata": {},
   "outputs": [
    {
     "name": "stdout",
     "output_type": "stream",
     "text": [
      "Enter any Natural number:  -2\n",
      "The number is less than zero,  please enter a positive number\n"
     ]
    }
   ],
   "source": [
    "number=int(input(\"Enter any Natural number:  \"))\n",
    "num=number\n",
    "sum=0\n",
    "try:\n",
    "    if(num<0):\n",
    "        raise Exception(\"The number is less than zero, \")\n",
    "    else:\n",
    "        while(num>0):\n",
    "            sum += num\n",
    "            num -= 1\n",
    "        print(\"The Addition of {} Natural number is:  {}\".format(number, sum))\n",
    "    \n",
    "except Exception as e:\n",
    "    print(e , \"please enter a positive number\")\n",
    "\n"
   ]
  },
  {
   "cell_type": "code",
   "execution_count": null,
   "metadata": {},
   "outputs": [],
   "source": []
  }
 ],
 "metadata": {
  "kernelspec": {
   "display_name": "Python 3",
   "language": "python",
   "name": "python3"
  },
  "language_info": {
   "codemirror_mode": {
    "name": "ipython",
    "version": 3
   },
   "file_extension": ".py",
   "mimetype": "text/x-python",
   "name": "python",
   "nbconvert_exporter": "python",
   "pygments_lexer": "ipython3",
   "version": "3.7.6"
  }
 },
 "nbformat": 4,
 "nbformat_minor": 4
}
