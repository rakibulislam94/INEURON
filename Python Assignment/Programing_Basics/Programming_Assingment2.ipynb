{
 "cells": [
  {
   "cell_type": "code",
   "execution_count": 2,
   "metadata": {},
   "outputs": [
    {
     "name": "stdout",
     "output_type": "stream",
     "text": [
      "Enter a Km value: 5.7\n",
      "The converted value is: 3.5418147 mile\n"
     ]
    }
   ],
   "source": [
    "# 1.\tWrite a Python program to convert kilometers to miles?\n",
    "# 1km = 0.621371 mile\n",
    "\n",
    "km= float(input(\"Enter a Km value: \"))\n",
    "miles = km*0.621371\n",
    "print(f\"The converted value is: {miles} mile\")"
   ]
  },
  {
   "cell_type": "code",
   "execution_count": 11,
   "metadata": {},
   "outputs": [
    {
     "name": "stdout",
     "output_type": "stream",
     "text": [
      "Enter celsius value: 5\n",
      "Fahrenhite: 41.0\n"
     ]
    }
   ],
   "source": [
    "#2.\tWrite a Python program to convert Celsius to Fahrenheit?\n",
    "# T(°F) = T(°C) × 9/5 + 32\n",
    "\n",
    "cels = float(input(\"Enter celsius value: \"))\n",
    "fahrenhite = (cels*9/5)+32\n",
    "print(f\"Fahrenhite: {fahrenhite}\")\n"
   ]
  },
  {
   "cell_type": "code",
   "execution_count": 7,
   "metadata": {},
   "outputs": [
    {
     "name": "stdout",
     "output_type": "stream",
     "text": [
      "C:45\n",
      "113.0\n"
     ]
    }
   ],
   "source": [
    "print((float(input(\"C:\"))*9/5)+32)"
   ]
  },
  {
   "cell_type": "code",
   "execution_count": 25,
   "metadata": {},
   "outputs": [
    {
     "name": "stdout",
     "output_type": "stream",
     "text": [
      "Enter the year:  2021\n",
      "Enter the month:  4\n",
      "\n",
      "\n",
      "     April 2021\n",
      "Mo Tu We Th Fr Sa Su\n",
      "          1  2  3  4\n",
      " 5  6  7  8  9 10 11\n",
      "12 13 14 15 16 17 18\n",
      "19 20 21 22 23 24 25\n",
      "26 27 28 29 30\n",
      "\n"
     ]
    }
   ],
   "source": [
    "#3.\tWrite a Python program to display calendar? \n",
    "\n",
    "import calendar\n",
    "year = int(input(\"Enter the year:  \"))\n",
    "month= int(input(\"Enter the month:  \"))\n",
    "print(\"\\n\")\n",
    "print(calendar.month(year,month))"
   ]
  },
  {
   "cell_type": "code",
   "execution_count": 28,
   "metadata": {},
   "outputs": [
    {
     "name": "stdout",
     "output_type": "stream",
     "text": [
      "     April 2000\n",
      "Mo Tu We Th Fr Sa Su\n",
      "                1  2\n",
      " 3  4  5  6  7  8  9\n",
      "10 11 12 13 14 15 16\n",
      "17 18 19 20 21 22 23\n",
      "24 25 26 27 28 29 30\n",
      "\n"
     ]
    }
   ],
   "source": [
    "print(calendar.month(2000, 4))"
   ]
  },
  {
   "cell_type": "code",
   "execution_count": 39,
   "metadata": {},
   "outputs": [
    {
     "name": "stdout",
     "output_type": "stream",
     "text": [
      "Enter value on a: 1\n",
      "Enter value on b: 5\n",
      "Enter value on c: 6\n",
      "The solutions are: (-2+0j) and (-3+0j)\n"
     ]
    }
   ],
   "source": [
    "# 4.\tWrite a Python program to solve quadratic equation?\n",
    "\"\"\"\n",
    "ax^2 + bx + c = 0 ; a!=0,  & a,b,c are real\n",
    "discriminant = b**2 - 4*a*c\n",
    "sol1 = (-b + sqrt(discriminant))/(2*a))\n",
    "sol2 = (-b - sqrt(discriminant))/(2*a))\n",
    "\"\"\"\n",
    "from  cmath import sqrt\n",
    "a = int(input(\"Enter value on a: \"))\n",
    "b = int(input(\"Enter value on b: \"))\n",
    "c = int(input(\"Enter value on c: \"))\n",
    "\n",
    "d = b*b-4*a*c\n",
    "\n",
    "sol1 = (-b + sqrt(d))/(2*a)\n",
    "sol2 = (-b - sqrt(d))/(2*a)\n",
    "\n",
    "print(f\"The solutions are: {sol1} and {sol2}\")\n"
   ]
  },
  {
   "cell_type": "code",
   "execution_count": 40,
   "metadata": {},
   "outputs": [
    {
     "name": "stdout",
     "output_type": "stream",
     "text": [
      "enter first number: 3\n",
      "enter second number: 8\n",
      "After swap  a:8 and  b:3\n"
     ]
    }
   ],
   "source": [
    "#5.\tWrite a Python program to swap two variables without temp variable?\n",
    "a=input(\"enter first number: \")\n",
    "b=input(\"enter second number: \")\n",
    "a,b=b,a\n",
    "print(f\"After swap  a:{a} and  b:{b}\")"
   ]
  },
  {
   "cell_type": "code",
   "execution_count": null,
   "metadata": {},
   "outputs": [],
   "source": []
  }
 ],
 "metadata": {
  "kernelspec": {
   "display_name": "Python 3",
   "language": "python",
   "name": "python3"
  },
  "language_info": {
   "codemirror_mode": {
    "name": "ipython",
    "version": 3
   },
   "file_extension": ".py",
   "mimetype": "text/x-python",
   "name": "python",
   "nbconvert_exporter": "python",
   "pygments_lexer": "ipython3",
   "version": "3.8.5"
  }
 },
 "nbformat": 4,
 "nbformat_minor": 4
}
